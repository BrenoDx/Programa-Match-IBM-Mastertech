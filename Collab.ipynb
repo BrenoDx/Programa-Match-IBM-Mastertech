def validar_renda():
    while True:
        try:
            renda = float(input("Informe sua renda: "))
            if 1000 <= renda <= 100000:
                return renda
            else:
                print("Sua renda mensal deve estar entre R$1.000,00 e R$100.000,00")
        except ValueError:
            print("Valor inválido, insira um valor numérico válido.")

def calcular_emprestimo(renda):
    while True:
        try:
            valor_emprestimo = float(input("Valor do empréstimo desejado: "))

            limite_emprestimo = renda * 5
            limite_prestacao = renda * 0.3

            if valor_emprestimo > limite_emprestimo:
                print(f"O valor do empréstimo não pode ser superior a R${limite_emprestimo:.2f}")
            else:
                break
        except ValueError:
            print("Valor inválido, insira um valor numérico válido.")

    while True:
        try:
            prazo_meses = int(input("Parcelas: "))

            limite_prazo = 60  # 5 anos

            if prazo_meses > limite_prazo:
                print("A quantidade de parcelas não pode exceder 60.")
            else:
                break
        except ValueError:
            print("Valor inválido, insira um valor numérico válido.")

    taxa_juros = 0.1  # 10% de juros

    total_pago = 0
    valor_original = valor_emprestimo

    for _ in range(prazo_meses):
        juros = valor_emprestimo * taxa_juros
        total_pago += valor_emprestimo + juros
        valor_emprestimo -= valor_original / prazo_meses  # Subtrai a parcela de amortização

    prestacao = total_pago / prazo_meses

    print(f"Valor das parcelas: R${prestacao:.2f}")
    print(f"Valor Total do Empréstimo: R${total_pago:.2f}")
    print(f"Juros: R${total_pago - valor_original:.2f}")

def main():
    print("Simular Empréstimo!")

    renda = validar_renda()
    calcular_emprestimo(renda)

if __name__ == "__main__":
    main()
